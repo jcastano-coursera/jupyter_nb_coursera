{
 "cells": [
  {
   "cell_type": "markdown",
   "id": "d29eb437-42b2-4b86-bbd7-896fc01e46ce",
   "metadata": {},
   "source": [
    "# Data Science Tools and Ecosystem"
   ]
  },
  {
   "cell_type": "markdown",
   "id": "63288f55-6846-44e1-82ab-f9b2d210cf6f",
   "metadata": {},
   "source": [
    "### In this notebook we would talk and summarize important information about tools used in the DS field"
   ]
  },
  {
   "cell_type": "markdown",
   "id": "6def8eaf-29a0-46d7-a412-c6bfacc0f6fc",
   "metadata": {},
   "source": [
    "**Objectives:**\n",
    "- List popular languages for Data Science\n",
    "- Describe libraries used in Data Science\n",
    "- Explore open-source tools commonly used in Data Science\n",
    "- Learn about functions in Python"
   ]
  },
  {
   "cell_type": "markdown",
   "id": "be1c21e4-1fa9-4add-a57f-562a3bec14e8",
   "metadata": {},
   "source": [
    "Some of the popular programming languages that are used in the Data Science field are:\n",
    "- Python\n",
    "- R\n",
    "- SQL\n",
    "- Julia\n",
    "- Scala\n",
    "- JavaScript\n",
    "- Java\n",
    "- Swift\n",
    "- Go\n",
    "- MATLAB\n",
    "- C\n",
    "- SAS"
   ]
  },
  {
   "cell_type": "markdown",
   "id": "9adb1eba-f2c1-4208-88d3-ce2dbe291e01",
   "metadata": {},
   "source": [
    "Some of the commonly used libraries used by Data Scientists include:\n",
    "- Matplotlib\n",
    "- Numpy\n",
    "- Pandas\n",
    "- ggplot\n",
    "- Tensorflow\n",
    "- SciKit Learn"
   ]
  },
  {
   "cell_type": "markdown",
   "id": "57d026ea-110d-499f-b23a-c4e132e2ff58",
   "metadata": {},
   "source": [
    "| Data Science Tools  |\r\n",
    "|------------------------|\r\n",
    "| Jupyter Notebook     |\r\n",
    "| RStudio                |\r\n",
    "| Apache Zeppelin       |\r\n"
   ]
  },
  {
   "cell_type": "markdown",
   "id": "fd98282c-f54a-495a-8b3f-6f2f6e277322",
   "metadata": {},
   "source": [
    "### Below are a few examples of evaluating arithmetic expressions in Python.\r\n"
   ]
  },
  {
   "cell_type": "code",
   "execution_count": 35,
   "id": "8667ef68-13a6-4487-ad42-e13346edc412",
   "metadata": {},
   "outputs": [
    {
     "data": {
      "text/plain": [
       "17"
      ]
     },
     "execution_count": 35,
     "metadata": {},
     "output_type": "execute_result"
    }
   ],
   "source": [
    "# This is a simple arithmetic expression where the numbers in the parentheses are multiplied and then five is added to the result.\n",
    "(3*4)+5"
   ]
  },
  {
   "cell_type": "code",
   "execution_count": 52,
   "id": "93b58823-06fc-4b84-9856-8ded34313149",
   "metadata": {},
   "outputs": [
    {
     "name": "stdout",
     "output_type": "stream",
     "text": [
      "3.3333333333333335\n"
     ]
    }
   ],
   "source": [
    "# This function converts minutes to hours\n",
    "def convert_to_hours(minutes):\n",
    "    return minutes/60\n",
    "\n",
    "print(convert_to_hours(200))"
   ]
  },
  {
   "cell_type": "markdown",
   "id": "55a26369-e6ca-448d-822d-019b2f69f5c8",
   "metadata": {},
   "source": [
    "## Author\n",
    "Juan David Castaño"
   ]
  }
 ],
 "metadata": {
  "kernelspec": {
   "display_name": "Python 3 (ipykernel)",
   "language": "python",
   "name": "python3"
  },
  "language_info": {
   "codemirror_mode": {
    "name": "ipython",
    "version": 3
   },
   "file_extension": ".py",
   "mimetype": "text/x-python",
   "name": "python",
   "nbconvert_exporter": "python",
   "pygments_lexer": "ipython3",
   "version": "3.12.4"
  }
 },
 "nbformat": 4,
 "nbformat_minor": 5
}
